{
 "cells": [
  {
   "cell_type": "markdown",
   "metadata": {},
   "source": [
    "# KNN in 3 Steps\n"
   ]
  },
  {
   "cell_type": "code",
   "execution_count": 1,
   "metadata": {},
   "outputs": [],
   "source": [
    "import numpy as np\n",
    "import pandas as pd"
   ]
  },
  {
   "cell_type": "code",
   "execution_count": 2,
   "metadata": {},
   "outputs": [],
   "source": [
    "df = pd.read_csv(\"iris.csv\")"
   ]
  },
  {
   "cell_type": "code",
   "execution_count": 3,
   "metadata": {},
   "outputs": [
    {
     "data": {
      "text/plain": [
       "array(['Setosa', 'Versicolor', 'Virginica'], dtype=object)"
      ]
     },
     "execution_count": 3,
     "metadata": {},
     "output_type": "execute_result"
    }
   ],
   "source": [
    "df.variety.unique()"
   ]
  },
  {
   "cell_type": "code",
   "execution_count": 4,
   "metadata": {},
   "outputs": [],
   "source": [
    "df.variety = df.variety.map({\n",
    "    'Setosa':0,\n",
    "    'Versicolor':1,\n",
    "    'Virginica':2\n",
    "})\n",
    "irisdata = df.values\n",
    "irisdata = irisdata[np.random.permutation(len(irisdata))]"
   ]
  },
  {
   "cell_type": "code",
   "execution_count": 5,
   "metadata": {},
   "outputs": [],
   "source": [
    "#Find Euclidean Distance\n",
    "def Euclidean_Distance(row1,row2):\n",
    "    Distance = 0\n",
    "    for i in range(len(row1)-1):\n",
    "        Distance += (row1[i] - row2[i])**2\n",
    "    return Distance**0.5\n",
    "\n",
    "\n",
    "#Get Nearest Neighbour\n",
    "def GetNN(Train,test_row,k):\n",
    "    Distance = []\n",
    "    Data = []\n",
    "    for i in Train:\n",
    "        dist = Euclidean_Distance(test_row,i)\n",
    "        Distance.append(dist)\n",
    "        Data.append(i)\n",
    "    Distance = np.array(Distance)\n",
    "    Data = np.array(Data)\n",
    "    dist_index = np.argsort(Distance)\n",
    "    Data = Data[dist_index]\n",
    "    neighbor = Data[:k]\n",
    "    return neighbor\n",
    "\n",
    "#Predict Classes\n",
    "def Predict_classes(Train,test_row,k):\n",
    "    Neighbors = GetNN(Train,test_row,k)\n",
    "    classes = []\n",
    "    for i in Neighbors:\n",
    "        classes.append(i[-1])\n",
    "    print(classes)\n",
    "    Prediction = max(classes,key = classes.count)\n",
    "    return Prediction\n",
    "\n",
    "#Make Predict\n",
    "def Predict(Train,test,k):\n",
    "    y_pred = []\n",
    "    for i in test:\n",
    "        prediction = Predict_classes(Train,i,k)\n",
    "        y_pred.append(prediction)\n",
    "    return np.array(y_pred)\n",
    "\n",
    "#Find the Accuracy\n",
    "def Accuracy(Train_class,Predict_class):\n",
    "    correct = 0\n",
    "    for i,j in zip(Train_class,Predict_class):\n",
    "        if i == j:\n",
    "            correct +=1\n",
    "    return correct/len(Train_class)"
   ]
  },
  {
   "cell_type": "markdown",
   "metadata": {},
   "source": [
    "# Using Library"
   ]
  },
  {
   "cell_type": "code",
   "execution_count": 6,
   "metadata": {},
   "outputs": [],
   "source": [
    "from sklearn.neighbors import KNeighborsClassifier\n",
    "from sklearn.metrics import accuracy_score, confusion_matrix\n",
    "x = irisdata[:,:-1]\n",
    "y = irisdata[:,-1]"
   ]
  },
  {
   "cell_type": "code",
   "execution_count": 7,
   "metadata": {},
   "outputs": [],
   "source": [
    "KNN_Class = KNeighborsClassifier(n_neighbors=6)\n",
    "KNN_Class = KNN_Class.fit(x,y)"
   ]
  },
  {
   "cell_type": "code",
   "execution_count": 8,
   "metadata": {},
   "outputs": [],
   "source": [
    "y_pred_sklearn = KNN_Class.predict(x)"
   ]
  },
  {
   "cell_type": "code",
   "execution_count": 9,
   "metadata": {},
   "outputs": [
    {
     "data": {
      "text/plain": [
       "0.9733333333333334"
      ]
     },
     "execution_count": 9,
     "metadata": {},
     "output_type": "execute_result"
    }
   ],
   "source": [
    "accuracy_score(y,y_pred_sklearn)"
   ]
  },
  {
   "cell_type": "code",
   "execution_count": null,
   "metadata": {},
   "outputs": [],
   "source": []
  }
 ],
 "metadata": {
  "kernelspec": {
   "display_name": "Python 3",
   "language": "python",
   "name": "python3"
  },
  "language_info": {
   "codemirror_mode": {
    "name": "ipython",
    "version": 3
   },
   "file_extension": ".py",
   "mimetype": "text/x-python",
   "name": "python",
   "nbconvert_exporter": "python",
   "pygments_lexer": "ipython3",
   "version": "3.7.3"
  }
 },
 "nbformat": 4,
 "nbformat_minor": 4
}
